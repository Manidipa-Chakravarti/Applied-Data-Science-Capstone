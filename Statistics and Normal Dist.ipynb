{
    "cells": [
        {
            "cell_type": "markdown",
            "metadata": {},
            "source": "# Data Set\n#### In the mind of a computer, a data set is any collection of data. It can be anything from an array to a complete database.\n\n#### Example of an array:  \n[99,86,87,88,111,86,103,87,94,78,77,85,86]\n\nLet us assume above set of numbers represents the speeds of a car. Now with help of python we will learn the basics of statistics. Using numpy and Scipy libraries to do the necessary calculations"
        },
        {
            "cell_type": "code",
            "execution_count": 1,
            "metadata": {},
            "outputs": [],
            "source": "# NumPy, which stands for Numerical Python, is a library consisting of multidimensional array objects and a collection \n# of routines for processing those arrays. Using NumPy, mathematical and logical operations on arrays can be performed. \nimport numpy"
        },
        {
            "cell_type": "code",
            "execution_count": 2,
            "metadata": {},
            "outputs": [],
            "source": "# SciPy The SciPy library of Python is built to work with NumPy arrays and provides many user-friendly and efficient \n# numerical practices such as routines for numerical integration and optimization. \nfrom scipy import stats"
        },
        {
            "cell_type": "markdown",
            "metadata": {},
            "source": "# Mean, Median, and Mode\n\n#### Mean - The average value\nFind the sum of all values, and divide the sum by the number of values:  \n(99+86+87+88+111+86+103+87+94+78+77+85+86) / 13  \nmean = 89.77\n\n#### Median - The mid point value\nThe median value is the value in the middle, after you have sorted all the values\nExact value in the middle.  \n77, 78, 85, 86, 86, 86, 87, 87, 88, 94, 99, 103, 111 - contains odd number of values  \nmedian = 87\n\nIf there are two numbers in the middle, divide the sum of those numbers by two.  \n77, 78, 85, 86, 86, 86, 87, 87, 94, 98, 99, 103 - contains even number of values  \nmedian = 86.5\n\n#### Mode - The most frequently occuring value\n99,86,87,88,111,86,103,87,94,78,77,85,86  \nmode = 86\n"
        },
        {
            "cell_type": "code",
            "execution_count": 3,
            "metadata": {},
            "outputs": [
                {
                    "name": "stdout",
                    "output_type": "stream",
                    "text": "mean is: 89.76923076923077\n"
                }
            ],
            "source": "# Now let us define a list which contains the array for speeds of a car\nspeed = [99,86,87,88,111,86,103,87,94,78,77,85,86]\n\n# calculation of mean \nmean_speed = numpy.mean(speed)\nprint(\"mean is:\", mean_speed)"
        },
        {
            "cell_type": "code",
            "execution_count": 4,
            "metadata": {},
            "outputs": [
                {
                    "name": "stdout",
                    "output_type": "stream",
                    "text": "median is: 87.0\n"
                }
            ],
            "source": "# calculation of median \nmedian_speed = numpy.median(speed)\nprint(\"median is:\", median_speed)"
        },
        {
            "cell_type": "code",
            "execution_count": 5,
            "metadata": {},
            "outputs": [
                {
                    "name": "stdout",
                    "output_type": "stream",
                    "text": "mode is: ModeResult(mode=array([86]), count=array([3]))\n"
                }
            ],
            "source": "# calculation of mode \nmode_speed = stats.mode(speed)\nprint(\"mode is:\", mode_speed)"
        },
        {
            "cell_type": "markdown",
            "metadata": {},
            "source": "# What is Standard Deviation?\nStandard deviation is a number that describes how spread out the values are. A low standard deviation means that most of the numbers are close to the mean (average) value.A high standard deviation means that the values are spread out over a wider range.\n\nspeed = [99,86,87,88,111,86,103,87,94,78,77,85,86]  \nstandard deviation = 9.23\n\nspeed = [86,87,88,86,87,85,86]  \nstandard deviation = 0.9"
        },
        {
            "cell_type": "code",
            "execution_count": 6,
            "metadata": {},
            "outputs": [
                {
                    "name": "stdout",
                    "output_type": "stream",
                    "text": "standard deviation is: 9.258292301032677\n"
                }
            ],
            "source": "std_speed = numpy.std(speed)\nprint(\"standard deviation is:\", std_speed)"
        },
        {
            "cell_type": "code",
            "execution_count": 24,
            "metadata": {},
            "outputs": [
                {
                    "name": "stdout",
                    "output_type": "stream",
                    "text": "standard deviation is: 0.9035079029052513\n"
                }
            ],
            "source": "speed = [86,87,88,86,87,85,86]\nstd_speed = numpy.std(speed)\nprint(\"standard deviation is:\", std_speed)"
        },
        {
            "cell_type": "markdown",
            "metadata": {},
            "source": "# Variance\nVariance is another number that indicates how spread out the values are.\n\nIn fact, if you take the square root of the variance, you get the standard deviation!\nLet us assume below set of numbers represents the speeds of a car  \nspeed = [32,111,138,28,59,77,97]\n\n1. Find the mean:\n(32+111+138+28+59+77+97) / 7 = 77.4\n2. For each value: find the difference from the mean:\n 32 - 77.4 = -45.4  \n111 - 77.4 =  33.6  \n138 - 77.4 =  60.6  \n 28 - 77.4 = -49.4   \n 59 - 77.4 = -18.4   \n 77 - 77.4 = - 0.4   \n 97 - 77.4 =  19.6  \n \n3. For each difference: find the square value:\n(-45.4)2 = 2061.16  \n (33.6)2 = 1128.96  \n (60.6)2 = 3672.36  \n(-49.4)2 = 2440.36  \n(-18.4)2 =  338.56  \n(- 0.4)2 =    0.16  \n (19.6)2 =  384.16  \n \n4. The variance is the average number of these squared differences:  \n(2061.16+1128.96+3672.36+2440.36+338.56+0.16+384.16) / 7 = 1432.2\n\n5. standard deviatio is the square root of the variance:  \n\u221a1432.25 = 37.85"
        },
        {
            "cell_type": "code",
            "execution_count": 20,
            "metadata": {},
            "outputs": [
                {
                    "name": "stdout",
                    "output_type": "stream",
                    "text": "Variance is 1432.2448979591834\n"
                }
            ],
            "source": "speed = [32,111,138,28,59,77,97]\nvar_speed = numpy.var(speed)\nprint(\"Variance is\", var_speed)"
        },
        {
            "cell_type": "code",
            "execution_count": 21,
            "metadata": {},
            "outputs": [
                {
                    "name": "stdout",
                    "output_type": "stream",
                    "text": "Std Deviation is 37.84501153334721\n"
                }
            ],
            "source": "std_speed = numpy.std(speed)\nprint(\"Std Deviation is\", std_speed)"
        },
        {
            "cell_type": "markdown",
            "metadata": {},
            "source": "# Normal Data Distribution\n\nIn probability theory this kind of data distribution is known as the normal data distribution, or the Gaussian data distribution, after the mathematician Carl Friedrich Gauss who came up with the formula of this data distribution"
        },
        {
            "cell_type": "markdown",
            "metadata": {},
            "source": "# Random function in numpy is used to generate random numbers\nExample as below  \nnumpy.random.normal(loc=5.0, scale=1.0, size=10000)  \n\nloc: float type value. Mean (\u201ccentre\u201d) of the distribution.  \nscale: Standard deviation (spread or \u201cwidth\u201d) of the distribution. Must be non-negative.  \nsize: int type value, indicates how many samples to be drawn.  "
        },
        {
            "cell_type": "code",
            "execution_count": 14,
            "metadata": {},
            "outputs": [
                {
                    "data": {
                        "image/png": "[encoded data removed]",
                        "text/plain": "<Figure size 432x288 with 1 Axes>"
                    },
                    "metadata": {
                        "needs_background": "light"
                    },
                    "output_type": "display_data"
                },
                {
                    "name": "stdout",
                    "output_type": "stream",
                    "text": "mean is: 4.988579608042892\nstandard deviation is: 0.9995046784288797\n"
                }
            ],
            "source": "import matplotlib.pyplot as plt\n\n# generating a random range of numbers\nx = numpy.random.normal(5.0, 1.0, 10000)\n\nplt.hist(x, 100)\nplt.show()\n\nstd_x = numpy.std(x)\nmean_x = numpy.mean(x)\n\nprint(\"mean is:\", mean_x)\nprint(\"standard deviation is:\", std_x)\n"
        },
        {
            "cell_type": "markdown",
            "metadata": {},
            "source": "## Hope this notebook was helpful in understanding the basics of statistics"
        }
    ],
    "metadata": {
        "kernelspec": {
            "display_name": "Python 3",
            "language": "python",
            "name": "python3"
        },
        "language_info": {
            "codemirror_mode": {
                "name": "ipython",
                "version": 3
            },
            "file_extension": ".py",
            "mimetype": "text/x-python",
            "name": "python",
            "nbconvert_exporter": "python",
            "pygments_lexer": "ipython3",
            "version": "3.8.3"
        }
    },
    "nbformat": 4,
    "nbformat_minor": 4
}